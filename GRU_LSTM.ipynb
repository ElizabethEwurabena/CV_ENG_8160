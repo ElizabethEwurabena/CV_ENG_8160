{
  "cells": [
    {
      "cell_type": "markdown",
      "metadata": {
        "id": "view-in-github",
        "colab_type": "text"
      },
      "source": [
        "<a href=\"https://colab.research.google.com/github/ElizabethEwurabena/CV_ENG_8160/blob/main/GRU_LSTM.ipynb\" target=\"_parent\"><img src=\"https://colab.research.google.com/assets/colab-badge.svg\" alt=\"Open In Colab\"/></a>"
      ]
    },
    {
      "cell_type": "code",
      "source": [
        "from google.colab import drive\n",
        "drive.mount('/content/drive')"
      ],
      "metadata": {
        "colab": {
          "base_uri": "https://localhost:8080/"
        },
        "id": "EJehg5SD0DS7",
        "outputId": "3e3a8c36-ab91-41e5-cf8c-ff134c4a9e94"
      },
      "execution_count": 1,
      "outputs": [
        {
          "output_type": "stream",
          "name": "stdout",
          "text": [
            "Mounted at /content/drive\n"
          ]
        }
      ]
    },
    {
      "cell_type": "code",
      "source": [
        "%cd '/content/drive/MyDrive/CV_ENG_8160/module 6'"
      ],
      "metadata": {
        "colab": {
          "base_uri": "https://localhost:8080/"
        },
        "id": "F1QXA5NJz4Vf",
        "outputId": "b00ac893-09c2-4e63-d498-f1b10bcc08f7"
      },
      "execution_count": 2,
      "outputs": [
        {
          "output_type": "stream",
          "name": "stdout",
          "text": [
            "/content/drive/MyDrive/CV_ENG_8160/module 6\n"
          ]
        }
      ]
    },
    {
      "cell_type": "code",
      "execution_count": 3,
      "metadata": {
        "id": "uzo4ccNmztyi"
      },
      "outputs": [],
      "source": [
        "import pandas as pd\n",
        "import random, math\n",
        "import torch\n",
        "import torch.nn as nn\n",
        "import numpy as np\n",
        "import matplotlib.pyplot as plt\n",
        "from sklearn.preprocessing import StandardScaler\n",
        "from scipy import fftpack\n",
        "import torch.utils.data as utils\n",
        "import os\n",
        "from sklearn.metrics import mean_absolute_percentage_error\n",
        "from torch.utils.data import Dataset, DataLoader\n",
        "from tqdm import tqdm"
      ]
    },
    {
      "cell_type": "code",
      "execution_count": null,
      "metadata": {
        "colab": {
          "base_uri": "https://localhost:8080/"
        },
        "id": "n926a_4Oztyi",
        "outputId": "71b58503-4920-4b26-fa61-fee878fd3bf8"
      },
      "outputs": [
        {
          "output_type": "stream",
          "name": "stdout",
          "text": [
            "Downloading...\n",
            "From: https://drive.google.com/uc?id=1E_qqe7kfvfApM4hCOBMPoXhyEPyrUJkN\n",
            "To: /content/drive/MyDrive/CV_ENG_8160/module 6/train.zip\n",
            "100% 8.67M/8.67M [00:00<00:00, 97.0MB/s]\n",
            "Downloading...\n",
            "From: https://drive.google.com/uc?id=1j-3-lHegY--FDHKZvz86HBtilV2dsP-i\n",
            "To: /content/drive/MyDrive/CV_ENG_8160/module 6/test.zip\n",
            "100% 459k/459k [00:00<00:00, 66.8MB/s]\n"
          ]
        }
      ],
      "source": [
        "# #gdown is google drive download\n",
        "# !gdown 'https://drive.google.com/uc?id=1E_qqe7kfvfApM4hCOBMPoXhyEPyrUJkN'\n",
        "# !gdown 'https://drive.google.com/uc?id=1j-3-lHegY--FDHKZvz86HBtilV2dsP-i'"
      ]
    },
    {
      "cell_type": "code",
      "execution_count": null,
      "metadata": {
        "colab": {
          "base_uri": "https://localhost:8080/"
        },
        "id": "HkndkJXlztyj",
        "outputId": "1f6f627a-bb9f-4ad7-b388-325085e0f7c0"
      },
      "outputs": [
        {
          "output_type": "stream",
          "name": "stdout",
          "text": [
            "Archive:  train.zip\n",
            "  inflating: ./tps_df.pkl            \n",
            "  inflating: ./__MACOSX/._tps_df.pkl  \n",
            "Archive:  test.zip\n",
            "  inflating: ./test_data/tps_5.pkl   \n",
            "  inflating: ./test_data/tps_2.pkl   \n",
            "  inflating: ./test_data/tps_6.pkl   \n",
            "  inflating: ./test_data/tps_4.pkl   \n",
            "  inflating: ./test_data/tps_15.pkl  \n",
            "  inflating: ./test_data/tps_7.pkl   \n",
            "  inflating: ./test_data/tps_1.pkl   \n",
            "  inflating: ./test_data/tps_12.pkl  \n",
            "  inflating: ./test_data/tps_8.pkl   \n",
            "  inflating: ./test_data/tps_3.pkl   \n",
            "  inflating: ./test_data/tps_9.pkl   \n",
            "  inflating: ./test_data/tps_13.pkl  \n",
            "  inflating: ./test_data/tps_11.pkl  \n",
            "  inflating: ./test_data/tps_10.pkl  \n",
            "  inflating: ./test_data/tps_14.pkl  \n"
          ]
        }
      ],
      "source": [
        "# !unzip 'train.zip' -d '.'\n",
        "# !unzip 'test.zip' -d '.'"
      ]
    },
    {
      "cell_type": "code",
      "source": [
        "class TrafficForecast(Dataset):\n",
        "    def __init__(self,pkl_path, window, horizon,type):\n",
        "        self.pkl_path = pkl_path\n",
        "        self.window = window\n",
        "        self.horizon = horizon\n",
        "        self.df = None\n",
        "        self.seg_ids = None\n",
        "        self.inputs = []\n",
        "        self.targets = []\n",
        "        self.type = type\n",
        "        self.train_df=None\n",
        "        self.test_df=None\n",
        "\n",
        "\n",
        "        df = pd.read_pickle(self.pkl_path)\n",
        "        df['time'] = pd.to_datetime(df['time'])\n",
        "        df['unix_timestamp'] = df['time'].astype(int) / 10**9\n",
        "        df['dow'] = df['time'].dt.weekday\n",
        "        df['hour'] = df['time'].dt.hour\n",
        "        df['min'] = df['time'].dt.minute\n",
        "        self.df = df.sample(frac=1).reset_index(drop=True)\n",
        "        #split into 80% train 20% test\n",
        "        train_len = int(0.8 * len(self.df))\n",
        "        self.train_df = self.df.iloc[:train_len]\n",
        "        self.test_df = self.df.iloc[train_len:]\n",
        "        self.seg_ids = self.df['segmentID'].unique()\n",
        "        self.setup_forecast()\n",
        "\n",
        "    def setup_forecast(self):\n",
        "        if self.type == 'train':\n",
        "            df = self.train_df\n",
        "            print(len(df))\n",
        "        elif self.type == 'test':\n",
        "            df = self.test_df\n",
        "            print(len(df))\n",
        "        for segid in self.seg_ids:\n",
        "            df_seg_id = self.df[self.df['segmentID'] == segid]\n",
        "            df_seg_id = df_seg_id.sort_values(by='time',ascending=True)\n",
        "            df_seg_id = df_seg_id.fillna(method=\"ffill\") # 1 nan nan nan 2, fulfill 2\n",
        "            TI_series = df_seg_id['TrafficIndex_GP'].values\n",
        "            h_series = df_seg_id['hour'].values\n",
        "            for t in range(0,len(TI_series)-(self.window+self.horizon)):\n",
        "                x = TI_series[t:t+self.window]\n",
        "                y = TI_series[t+self.window:(t+self.window+self.horizon)]\n",
        "                h = h_series[t:t+self.window]\n",
        "                x_cat = np.dstack([x, h])\n",
        "                self.inputs.append(x_cat)\n",
        "                self.targets.append(y)\n",
        "\n",
        "    def __len__(self):\n",
        "        return len(self.inputs)\n",
        "\n",
        "\n",
        "    def __getitem__(self,idx):\n",
        "        X = torch.tensor(self.inputs[idx],dtype=torch.float32).reshape(self.window, 2)\n",
        "        y=torch.tensor(self.targets[idx],dtype=torch.float32)\n",
        "\n",
        "        return {'inputs':X,'outputs':y}\n"
      ],
      "metadata": {
        "id": "7YUqjeKk9idA"
      },
      "execution_count": 6,
      "outputs": []
    },
    {
      "cell_type": "code",
      "execution_count": 7,
      "metadata": {
        "colab": {
          "base_uri": "https://localhost:8080/"
        },
        "id": "co2XhIXT1GqZ",
        "outputId": "eca55526-acf3-4039-f0c7-f07b2e98ce64"
      },
      "outputs": [
        {
          "output_type": "stream",
          "name": "stdout",
          "text": [
            "1012749\n",
            "253188\n"
          ]
        }
      ],
      "source": [
        "#36 x 36 -> window forecast\n",
        "#forecast every 15 mins for the next 9 hours\n",
        "\n",
        "tobj_train = TrafficForecast('tps_df.pkl',36,36,type='train')\n",
        "tobj_test = TrafficForecast('tps_df.pkl',36,36,type='test')"
      ]
    },
    {
      "cell_type": "code",
      "execution_count": 8,
      "metadata": {
        "id": "HyJt5CAh1GqZ",
        "outputId": "332539b1-1488-4edd-936e-131e9ec36903",
        "colab": {
          "base_uri": "https://localhost:8080/"
        }
      },
      "outputs": [
        {
          "output_type": "stream",
          "name": "stdout",
          "text": [
            "(1, 36, 2)\n",
            "(1, 36, 2)\n"
          ]
        }
      ],
      "source": [
        "#1 x 36 x 2 hourxtrafficx\n",
        "\n",
        "print(tobj_train.inputs[0].shape)\n",
        "print(tobj_test.inputs[0].shape)"
      ]
    },
    {
      "cell_type": "code",
      "execution_count": 9,
      "metadata": {
        "id": "-3Ej19r41Gqa",
        "colab": {
          "base_uri": "https://localhost:8080/"
        },
        "outputId": "94c9c478-9359-477b-fc5b-9ed63fd8c206"
      },
      "outputs": [
        {
          "output_type": "stream",
          "name": "stderr",
          "text": [
            "/usr/local/lib/python3.10/dist-packages/torch/utils/data/dataloader.py:557: UserWarning: This DataLoader will create 4 worker processes in total. Our suggested max number of worker in current system is 2, which is smaller than what this DataLoader is going to create. Please be aware that excessive worker creation might get DataLoader running slow or even freeze, lower the worker number to avoid potential slowness/freeze if necessary.\n",
            "  warnings.warn(_create_warning_msg(\n"
          ]
        }
      ],
      "source": [
        "bs = 1024\n",
        "dataloader_train = DataLoader(tobj_train, batch_size=bs, shuffle=False, num_workers=4,drop_last=True)\n",
        "dataloader_test = DataLoader(tobj_test, batch_size=bs, shuffle=False, num_workers=4,drop_last=True)"
      ]
    },
    {
      "cell_type": "code",
      "execution_count": 10,
      "metadata": {
        "colab": {
          "base_uri": "https://localhost:8080/"
        },
        "id": "qApi2l5Zztym",
        "outputId": "ef7df04b-c247-4741-86b8-e2a452a85f9e"
      },
      "outputs": [
        {
          "output_type": "stream",
          "name": "stdout",
          "text": [
            "torch.Size([1024, 36, 2]) torch.Size([1024, 36])\n",
            "torch.Size([1024, 36, 2]) torch.Size([1024, 36])\n",
            "torch.Size([1024, 36, 2]) torch.Size([1024, 36])\n",
            "torch.Size([1024, 36, 2]) torch.Size([1024, 36])\n"
          ]
        }
      ],
      "source": [
        "for idx, data in enumerate(dataloader_train):\n",
        "    print (data['inputs'].shape,data['outputs'].shape)\n",
        "    if idx ==3:\n",
        "        break"
      ]
    },
    {
      "cell_type": "code",
      "execution_count": 12,
      "metadata": {
        "id": "djP_PNeL1Gqa",
        "outputId": "6216bbfa-550d-4814-bf63-abc578e6dc00",
        "colab": {
          "base_uri": "https://localhost:8080/"
        }
      },
      "outputs": [
        {
          "output_type": "stream",
          "name": "stdout",
          "text": [
            "torch.Size([1024, 36, 2]) torch.Size([1024, 36])\n",
            "torch.Size([1024, 36, 2]) torch.Size([1024, 36])\n",
            "torch.Size([1024, 36, 2]) torch.Size([1024, 36])\n",
            "torch.Size([1024, 36, 2]) torch.Size([1024, 36])\n"
          ]
        }
      ],
      "source": [
        "for idx, data in enumerate(dataloader_test):\n",
        "  # print(idx,data)\n",
        "  print (data['inputs'].shape,data['outputs'].shape)\n",
        "  if idx == 3:\n",
        "      break"
      ]
    },
    {
      "cell_type": "code",
      "execution_count": 13,
      "metadata": {
        "id": "m_VxNSkeztym"
      },
      "outputs": [],
      "source": [
        "device = torch.device(\"cuda:0\" if torch.cuda.is_available() else \"cpu\")"
      ]
    },
    {
      "cell_type": "code",
      "execution_count": 14,
      "metadata": {
        "id": "KNIgBXu7ztym"
      },
      "outputs": [],
      "source": [
        "from models import MyLSTM, MyGRU"
      ]
    },
    {
      "cell_type": "markdown",
      "source": [
        "LSTM"
      ],
      "metadata": {
        "id": "6gPO5LUWHfNs"
      }
    },
    {
      "cell_type": "code",
      "execution_count": 15,
      "metadata": {
        "id": "r5oxIU2oztym"
      },
      "outputs": [],
      "source": [
        "\n",
        "model = MyLSTM(n_inputs=2, n_hidden=10, n_rnnlayers=2, n_outputs=36)\n",
        "model.to(device)\n",
        "criterion = nn.MSELoss()\n",
        "optimizer = torch.optim.Adam(model.parameters(), lr=0.001)"
      ]
    },
    {
      "cell_type": "code",
      "source": [
        "mean_loss = []\n",
        "losses = []\n",
        "test_losses = []\n",
        "mean_test_loss = []\n",
        "n_epochs = 3\n",
        "# ts = ToTensor()\n",
        "for it in tqdm(range(n_epochs)):\n",
        "  # zero the parameter gradients\n",
        "  for i_batch, sample_batched in enumerate(dataloader_train):\n",
        "    optimizer.zero_grad()\n",
        "    outputs = model(sample_batched['inputs'].to(device))\n",
        "    loss = criterion(outputs, sample_batched['outputs'].to(device))\n",
        "    losses.append(loss.item())\n",
        "    loss.backward()\n",
        "    optimizer.step()\n",
        "\n",
        "  for i_test,sample_test in enumerate(dataloader_test):\n",
        "    outputs = model(sample_test['inputs'].to(device))\n",
        "    test_loss = criterion(outputs, sample_test['outputs'].to(device))\n",
        "    test_losses.append(test_loss.item())\n",
        "\n",
        "  mean_loss.append(np.mean(losses))\n",
        "  mean_test_loss.append(np.mean(test_losses))\n",
        "  if (it+1) % 1 == 0:\n",
        "    print(f'Epoch {it+1}/{n_epochs}, Training Loss: {np.mean(losses):.4f}, Testing Loss: {np.mean(test_losses):.4f}')"
      ],
      "metadata": {
        "colab": {
          "base_uri": "https://localhost:8080/"
        },
        "id": "CkNonPFrClzi",
        "outputId": "725631bb-a6d6-433e-d4cd-a3c5dd973e87"
      },
      "execution_count": 16,
      "outputs": [
        {
          "output_type": "stream",
          "name": "stderr",
          "text": [
            "\r  0%|          | 0/3 [00:00<?, ?it/s]/usr/local/lib/python3.10/dist-packages/torch/utils/data/dataloader.py:557: UserWarning: This DataLoader will create 4 worker processes in total. Our suggested max number of worker in current system is 2, which is smaller than what this DataLoader is going to create. Please be aware that excessive worker creation might get DataLoader running slow or even freeze, lower the worker number to avoid potential slowness/freeze if necessary.\n",
            "  warnings.warn(_create_warning_msg(\n",
            " 33%|███▎      | 1/3 [01:10<02:21, 70.56s/it]"
          ]
        },
        {
          "output_type": "stream",
          "name": "stdout",
          "text": [
            "Epoch 1/3, Training Loss: 0.0512, Testing Loss: 0.0117\n"
          ]
        },
        {
          "output_type": "stream",
          "name": "stderr",
          "text": [
            "\r 67%|██████▋   | 2/3 [02:23<01:12, 72.08s/it]"
          ]
        },
        {
          "output_type": "stream",
          "name": "stdout",
          "text": [
            "Epoch 2/3, Training Loss: 0.0313, Testing Loss: 0.0117\n"
          ]
        },
        {
          "output_type": "stream",
          "name": "stderr",
          "text": [
            "100%|██████████| 3/3 [03:36<00:00, 72.04s/it]"
          ]
        },
        {
          "output_type": "stream",
          "name": "stdout",
          "text": [
            "Epoch 3/3, Training Loss: 0.0246, Testing Loss: 0.0117\n"
          ]
        },
        {
          "output_type": "stream",
          "name": "stderr",
          "text": [
            "\n"
          ]
        }
      ]
    },
    {
      "cell_type": "code",
      "source": [
        "plt.plot(losses,'k',label='training')\n",
        "plt.plot(test_losses,'r',label='testing')\n",
        "plt.legend()"
      ],
      "metadata": {
        "colab": {
          "base_uri": "https://localhost:8080/",
          "height": 447
        },
        "id": "4FUtOPCeCwLs",
        "outputId": "dc2497b4-a589-4caa-a472-5ea4df5be12d"
      },
      "execution_count": 17,
      "outputs": [
        {
          "output_type": "execute_result",
          "data": {
            "text/plain": [
              "<matplotlib.legend.Legend at 0x7e782c45fb20>"
            ]
          },
          "metadata": {},
          "execution_count": 17
        },
        {
          "output_type": "display_data",
          "data": {
            "text/plain": [
              "<Figure size 640x480 with 1 Axes>"
            ],
            "image/png": "[encoded data removed]"
          },
          "metadata": {}
        }
      ]
    },
    {
      "cell_type": "code",
      "source": [
        "\n",
        "torch.save(model.state_dict(), 'LSTMmodel.pt')\n",
        "LSTMmodel=MyLSTM(n_inputs=2, n_hidden=10, n_rnnlayers=2, n_outputs=36)\n",
        "LSTMmodel.load_state_dict(torch.load('LSTMmodel.pt'))\n",
        "LSTMmodel.eval()"
      ],
      "metadata": {
        "colab": {
          "base_uri": "https://localhost:8080/"
        },
        "id": "Fe6XGj9vGoyk",
        "outputId": "5920ee3c-ddcc-4ab2-f76e-117bdab6d345"
      },
      "execution_count": 27,
      "outputs": [
        {
          "output_type": "execute_result",
          "data": {
            "text/plain": [
              "MyLSTM(\n",
              "  (relu): ReLU()\n",
              "  (rnn): LSTM(2, 10, num_layers=2, batch_first=True)\n",
              "  (fc): Linear(in_features=10, out_features=36, bias=True)\n",
              ")"
            ]
          },
          "metadata": {},
          "execution_count": 27
        }
      ]
    },
    {
      "cell_type": "code",
      "source": [
        "def evaluation(model, dataloader_test, device):\n",
        "    rmse = []\n",
        "    maes = []\n",
        "    model.eval()\n",
        "    with torch.no_grad():\n",
        "        for i_test, sample_test in enumerate(dataloader_test):\n",
        "            inputs = sample_test['inputs'].to(device)\n",
        "            targets = sample_test['outputs'].to(device)\n",
        "            model.to(device)\n",
        "            preds = model(inputs)\n",
        "            error = ((preds - targets) ** 2).sum(1).mean().item()\n",
        "            mae = (preds - targets).abs().sum(1).mean().item()\n",
        "            rmse.append(math.sqrt(error))\n",
        "            maes.append(mae)\n",
        "\n",
        "    return {'rmse': np.mean(rmse), 'mae': np.mean(maes)}\n",
        "\n",
        "device = torch.device(\"cuda\" if torch.cuda.is_available() else \"cpu\")\n",
        "results = evaluation(LSTMmodel, dataloader_test, device)\n",
        "print(results)"
      ],
      "metadata": {
        "colab": {
          "base_uri": "https://localhost:8080/"
        },
        "id": "6jdlb2npDUH-",
        "outputId": "89ba41a5-fe9e-4f0e-ebd0-c036b3fe70f1"
      },
      "execution_count": 29,
      "outputs": [
        {
          "output_type": "stream",
          "name": "stdout",
          "text": [
            "{'rmse': 0.4527679226298743, 'mae': 1.3408634522339193}\n"
          ]
        }
      ]
    },
    {
      "cell_type": "markdown",
      "source": [
        "GRU"
      ],
      "metadata": {
        "id": "pvoret7xHlfF"
      }
    },
    {
      "cell_type": "code",
      "source": [
        "model = MyGRU(n_inputs=2, n_hidden=10, n_rnnlayers=2, n_outputs=36)\n",
        "model.to(device)\n",
        "criterion = nn.MSELoss()\n",
        "optimizer = torch.optim.Adam(model.parameters(), lr=0.001)"
      ],
      "metadata": {
        "id": "FaXxtdHdDUB2"
      },
      "execution_count": 30,
      "outputs": []
    },
    {
      "cell_type": "code",
      "source": [
        "mean_loss = []\n",
        "losses = []\n",
        "test_losses = []\n",
        "mean_test_loss = []\n",
        "n_epochs = 3\n",
        "# ts = ToTensor()\n",
        "for it in tqdm(range(n_epochs)):\n",
        "  # zero the parameter gradients\n",
        "  for i_batch, sample_batched in enumerate(dataloader_train):\n",
        "    optimizer.zero_grad()\n",
        "    outputs = model(sample_batched['inputs'].to(device))\n",
        "    loss = criterion(outputs, sample_batched['outputs'].to(device))\n",
        "    losses.append(loss.item())\n",
        "    loss.backward()\n",
        "    optimizer.step()\n",
        "\n",
        "  for i_test,sample_test in enumerate(dataloader_test):\n",
        "    outputs = model(sample_test['inputs'].to(device))\n",
        "    test_loss = criterion(outputs, sample_test['outputs'].to(device))\n",
        "    test_losses.append(test_loss.item())\n",
        "\n",
        "  mean_loss.append(np.mean(losses))\n",
        "  mean_test_loss.append(np.mean(test_losses))\n",
        "  if (it+1) % 1 == 0:\n",
        "    print(f'Epoch {it+1}/{n_epochs}, Training Loss: {np.mean(losses):.4f}, Testing Loss: {np.mean(test_losses):.4f}')"
      ],
      "metadata": {
        "colab": {
          "base_uri": "https://localhost:8080/"
        },
        "id": "U8oKzLUZH02f",
        "outputId": "bdb7e93a-6ebc-4c91-9cb7-63923bceb236"
      },
      "execution_count": 31,
      "outputs": [
        {
          "output_type": "stream",
          "name": "stderr",
          "text": [
            "\r  0%|          | 0/3 [00:00<?, ?it/s]/usr/local/lib/python3.10/dist-packages/torch/utils/data/dataloader.py:557: UserWarning: This DataLoader will create 4 worker processes in total. Our suggested max number of worker in current system is 2, which is smaller than what this DataLoader is going to create. Please be aware that excessive worker creation might get DataLoader running slow or even freeze, lower the worker number to avoid potential slowness/freeze if necessary.\n",
            "  warnings.warn(_create_warning_msg(\n",
            " 33%|███▎      | 1/3 [01:21<02:42, 81.45s/it]"
          ]
        },
        {
          "output_type": "stream",
          "name": "stdout",
          "text": [
            "Epoch 1/3, Training Loss: 0.0595, Testing Loss: 0.0114\n"
          ]
        },
        {
          "output_type": "stream",
          "name": "stderr",
          "text": [
            "\r 67%|██████▋   | 2/3 [02:35<01:16, 76.93s/it]"
          ]
        },
        {
          "output_type": "stream",
          "name": "stdout",
          "text": [
            "Epoch 2/3, Training Loss: 0.0354, Testing Loss: 0.0115\n"
          ]
        },
        {
          "output_type": "stream",
          "name": "stderr",
          "text": [
            "100%|██████████| 3/3 [03:45<00:00, 75.25s/it]"
          ]
        },
        {
          "output_type": "stream",
          "name": "stdout",
          "text": [
            "Epoch 3/3, Training Loss: 0.0273, Testing Loss: 0.0115\n"
          ]
        },
        {
          "output_type": "stream",
          "name": "stderr",
          "text": [
            "\n"
          ]
        }
      ]
    },
    {
      "cell_type": "code",
      "source": [
        "plt.plot(losses,'k',label='training')\n",
        "plt.plot(test_losses,'r',label='testing')\n",
        "plt.legend()"
      ],
      "metadata": {
        "colab": {
          "base_uri": "https://localhost:8080/",
          "height": 447
        },
        "id": "luNdFWgZH6qN",
        "outputId": "78ccc929-ab47-422d-e0dc-3bf7e2b09573"
      },
      "execution_count": 32,
      "outputs": [
        {
          "output_type": "execute_result",
          "data": {
            "text/plain": [
              "<matplotlib.legend.Legend at 0x7e782c45f700>"
            ]
          },
          "metadata": {},
          "execution_count": 32
        },
        {
          "output_type": "display_data",
          "data": {
            "text/plain": [
              "<Figure size 640x480 with 1 Axes>"
            ],
            "image/png": "[encoded data removed]"
          },
          "metadata": {}
        }
      ]
    },
    {
      "cell_type": "code",
      "source": [
        "torch.save(model.state_dict(), 'GRUmodel.pt')\n",
        "grumodel = MyGRU(n_inputs=2, n_hidden=10, n_rnnlayers=2, n_outputs=36)\n",
        "grumodel.load_state_dict(torch.load('GRUmodel.pt'))\n",
        "grumodel.eval()"
      ],
      "metadata": {
        "colab": {
          "base_uri": "https://localhost:8080/"
        },
        "id": "XaA_o9BxDUNe",
        "outputId": "1cdf34c6-5185-47ba-b50e-2237b4cf24da"
      },
      "execution_count": 33,
      "outputs": [
        {
          "output_type": "execute_result",
          "data": {
            "text/plain": [
              "MyGRU(\n",
              "  (relu): ReLU()\n",
              "  (rnn): GRU(2, 10, num_layers=2, batch_first=True)\n",
              "  (fc): Linear(in_features=10, out_features=36, bias=True)\n",
              ")"
            ]
          },
          "metadata": {},
          "execution_count": 33
        }
      ]
    },
    {
      "cell_type": "code",
      "execution_count": 34,
      "metadata": {
        "id": "z_ZeImjdztyn",
        "colab": {
          "base_uri": "https://localhost:8080/"
        },
        "outputId": "c8a28ae9-e904-468f-a0d9-aafd16eadaa3"
      },
      "outputs": [
        {
          "output_type": "stream",
          "name": "stdout",
          "text": [
            "{'rmse': 0.4527679226298743, 'mae': 1.3408634522339193}\n"
          ]
        }
      ],
      "source": [
        "def evaluation(model, dataloader_test, device):\n",
        "    rmse = []\n",
        "    maes = []\n",
        "    model.eval()\n",
        "    with torch.no_grad():\n",
        "        for i_test, sample_test in enumerate(dataloader_test):\n",
        "            inputs = sample_test['inputs'].to(device)\n",
        "            targets = sample_test['outputs'].to(device)\n",
        "            model.to(device)\n",
        "            preds = model(inputs)\n",
        "            error = ((preds - targets) ** 2).sum(1).mean().item()\n",
        "            mae = (preds - targets).abs().sum(1).mean().item()\n",
        "            rmse.append(math.sqrt(error))\n",
        "            maes.append(mae)\n",
        "\n",
        "    return {'rmse': np.mean(rmse), 'mae': np.mean(maes)}\n",
        "\n",
        "device = torch.device(\"cuda\" if torch.cuda.is_available() else \"cpu\")\n",
        "results = evaluation(LSTMmodel, dataloader_test, device)\n",
        "print(results)"
      ]
    }
  ],
  "metadata": {
    "kernelspec": {
      "display_name": "Python 3",
      "name": "python3"
    },
    "language_info": {
      "codemirror_mode": {
        "name": "ipython",
        "version": 3
      },
      "file_extension": ".py",
      "mimetype": "text/x-python",
      "name": "python",
      "nbconvert_exporter": "python",
      "pygments_lexer": "ipython3",
      "version": "3.8.18"
    },
    "orig_nbformat": 4,
    "colab": {
      "provenance": [],
      "gpuType": "T4",
      "include_colab_link": true
    },
    "accelerator": "GPU"
  },
  "nbformat": 4,
  "nbformat_minor": 0
}